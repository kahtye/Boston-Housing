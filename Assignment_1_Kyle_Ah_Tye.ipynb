{
  "nbformat": 4,
  "nbformat_minor": 0,
  "metadata": {
    "kernelspec": {
      "display_name": "Python 3",
      "language": "python",
      "name": "python3"
    },
    "language_info": {
      "codemirror_mode": {
        "name": "ipython",
        "version": 3
      },
      "file_extension": ".py",
      "mimetype": "text/x-python",
      "name": "python",
      "nbconvert_exporter": "python",
      "pygments_lexer": "ipython3",
      "version": "3.5.3"
    },
    "colab": {
      "name": "Assignment_1_Kyle_Ah-Tye.ipynb",
      "provenance": [],
      "collapsed_sections": []
    }
  },
  "cells": [
    {
      "cell_type": "markdown",
      "metadata": {
        "deletable": true,
        "editable": true,
        "id": "m_R4z-lmbSjo",
        "colab_type": "text"
      },
      "source": [
        "<h2>Assignment 1 - Linear Regression on Boston Housing Data</h2>"
      ]
    },
    {
      "cell_type": "code",
      "metadata": {
        "deletable": true,
        "editable": true,
        "id": "WJ3cJxt3bSjp",
        "colab_type": "code",
        "colab": {}
      },
      "source": [
        "# The modules we're going to use\n",
        "from __future__ import print_function\n",
        "from sklearn import preprocessing\n",
        "from sklearn.model_selection import train_test_split\n",
        "from sklearn import datasets, linear_model\n",
        "from scipy import linalg\n",
        "import numpy as np\n",
        "import matplotlib.pyplot as plt\n",
        "from sklearn.metrics import mean_squared_error\n",
        "\n",
        "# When you execute a code to plot with a simple SHIFT-ENTER, the plot will be shown directly under the code cell\n",
        "%matplotlib inline"
      ],
      "execution_count": 0,
      "outputs": []
    },
    {
      "cell_type": "code",
      "metadata": {
        "deletable": true,
        "editable": true,
        "id": "VXXIgKFJbSjr",
        "colab_type": "code",
        "colab": {}
      },
      "source": [
        "# Load data from scikit-learn, which returns (data, target)\n",
        "# note: if you call \"boston = load_boston()\", it returns a dictionary-like object\n",
        "data, target = datasets.load_boston(True)\n",
        "# Split the data into two parts: training data and testing data\n",
        "train_data,test_data,train_target,test_target = train_test_split(data,(target[:, np.newaxis]), test_size=0.2, random_state=42)"
      ],
      "execution_count": 0,
      "outputs": []
    },
    {
      "cell_type": "markdown",
      "metadata": {
        "deletable": true,
        "editable": true,
        "id": "NA3ezrA-bSjt",
        "colab_type": "text"
      },
      "source": [
        "<h4>Use scikit-learn library in the following cell</h4>"
      ]
    },
    {
      "cell_type": "code",
      "metadata": {
        "deletable": true,
        "editable": true,
        "id": "hlqomvfpbSjt",
        "colab_type": "code",
        "outputId": "1105ddad-bee1-4c1a-d5c4-0a2c4ea5a2db",
        "colab": {
          "base_uri": "https://localhost:8080/",
          "height": 119
        }
      },
      "source": [
        "# Task 1-1: use linear regression in sklearn\n",
        "  reg = linear_model.LinearRegression()\n",
        "  \n",
        "# Task 1-2: show intercept and coefficents\n",
        "  reg.fit(train_data,train_target)\n",
        "  print(\"Coefficients: \", reg.coef_)\n",
        "  print(\"Intercept: \", reg.intercept_)\n",
        "  \n",
        "\n",
        "# Task 1-3: show errors on training dataset and testing dataset\n",
        "  train_pred = reg.predict(test_data)\n",
        "  print(\"MSE: \" , mean_squared_error(train_pred,test_target))\n",
        "  "
      ],
      "execution_count": 0,
      "outputs": [
        {
          "output_type": "stream",
          "text": [
            "Coefficients:  [[-1.13055924e-01  3.01104641e-02  4.03807204e-02  2.78443820e+00\n",
            "  -1.72026334e+01  4.43883520e+00 -6.29636221e-03 -1.44786537e+00\n",
            "   2.62429736e-01 -1.06467863e-02 -9.15456240e-01  1.23513347e-02\n",
            "  -5.08571424e-01]]\n",
            "Intercept:  [30.24675099]\n",
            "MSE:  24.291119474973616\n"
          ],
          "name": "stdout"
        }
      ]
    },
    {
      "cell_type": "markdown",
      "metadata": {
        "deletable": true,
        "editable": true,
        "id": "RpX2tOa5bSjv",
        "colab_type": "text"
      },
      "source": [
        "<h4>Use analytical solution (normal equation) to perform linear regression in the following cell</h4>"
      ]
    },
    {
      "cell_type": "code",
      "metadata": {
        "deletable": true,
        "editable": true,
        "id": "YZJJ0sUGbSjv",
        "colab_type": "code",
        "outputId": "6498e799-65b4-4f3a-c7a3-41bbc96bd230",
        "colab": {
          "base_uri": "https://localhost:8080/",
          "height": 119
        }
      },
      "source": [
        "\n",
        "# Task 2-1: Implement a function solving normal equation \n",
        "# Inputs: Training data and  training label\n",
        "# Output: Weights\n",
        "def myNormalEqualFun(X,y):\n",
        "    m = y.size\n",
        "    x_bias = np.ones((m,1))\n",
        "    \n",
        "    #reshape nd array to (404,13)\n",
        "    X = np.reshape(X,(X.shape))\n",
        "    X = np.append(x_bias,X,axis = 1)\n",
        "    xT = np.transpose(X)\n",
        "    xT_dot = xT.dot(X)\n",
        "    \n",
        "    #Transpose X and inverse it, then dot it with the transposed array with the training labels\n",
        "    theta = np.linalg.inv(xT_dot).dot(xT.dot(y))\n",
        "    return theta #theta = (x^T dot X)^-1 dot (X^T dot Y)\n",
        "    \n",
        "# Task 2-2: Implement a function performing prediction\n",
        "# Inputs: Testing data and weights\n",
        "# Output: Predictions\n",
        "def myPredictFun(X,w):    \n",
        "    return X.dot(w) + intercept\n",
        "\n",
        "# Here we insert a column of 1s into training_data and test_data (to be consistent with our lecture slides)\n",
        "train_data_intercept = np.insert(train_data, 0, 1, axis=1)\n",
        "test_data_intercept = np.insert(test_data, 0, 1, axis=1)\n",
        "\n",
        "\n",
        "# Here we call myNormalEqual to train the model and get weights\n",
        "w = myNormalEqualFun(train_data,train_target)\n",
        "\n",
        "# Task 2-3: show intercept and coefficents\n",
        "intercept = w[0]\n",
        "print(\"Intercept: \" , intercept)\n",
        "w = np.delete(w,0)\n",
        "print(\"Coefficients: \" , w)\n",
        "\n",
        "train_pred = myPredictFun(test_data,w)\n",
        "\n",
        "\n",
        "# Task 2-4: show errors on training dataset and testing dataset\n",
        "MSEtotal = 0\n",
        "for i in range(test_target.size):\n",
        "    MSEtotal += np.square(train_pred.item(i) - test_target.item(i))    \n",
        "MSE = MSEtotal/(test_target.size)          \n",
        "print(\"MSE: \", MSE/2)\n"
      ],
      "execution_count": 0,
      "outputs": [
        {
          "output_type": "stream",
          "text": [
            "Intercept:  [30.24675099]\n",
            "Coefficients:  [-1.13055924e-01  3.01104641e-02  4.03807204e-02  2.78443820e+00\n",
            " -1.72026334e+01  4.43883520e+00 -6.29636221e-03 -1.44786537e+00\n",
            "  2.62429736e-01 -1.06467863e-02 -9.15456240e-01  1.23513347e-02\n",
            " -5.08571424e-01]\n",
            "MSE:  12.145559737488307\n"
          ],
          "name": "stdout"
        }
      ]
    },
    {
      "cell_type": "markdown",
      "metadata": {
        "deletable": true,
        "editable": true,
        "id": "1hhVEfixbSjx",
        "colab_type": "text"
      },
      "source": [
        "<h4>Use numerical solution (basic gradient descent) to perform linear regression in the following cell</h4>"
      ]
    },
    {
      "cell_type": "code",
      "metadata": {
        "deletable": true,
        "editable": true,
        "id": "3H1IxOBubSjy",
        "colab_type": "code",
        "outputId": "8b411dfb-af22-4243-edfa-4945767578ac",
        "colab": {
          "base_uri": "https://localhost:8080/",
          "height": 658
        }
      },
      "source": [
        "# Feature scaling\n",
        "scaler = preprocessing.StandardScaler().fit(train_data)\n",
        "train_data = scaler.transform(train_data)\n",
        "test_data = scaler.transform(test_data)\n",
        "\n",
        "\n",
        "# Task 3-1: Implement a function performing gradient descent\n",
        "# Inputs: Training data, training label, leaerning rate, number of iterations\n",
        "# Output: the final Weights\n",
        "#         the loss history along iterations\n",
        "def myGradientDescentFun(X,y,learning_rate,numItrs):\n",
        "  m = y.size\n",
        "  lstCost = []\n",
        "  \n",
        "  #Array of (14,) with random values from 0 to 1\n",
        "  theta = np.random.rand(X.shape[1])\n",
        "  for i in range(numItrs):\n",
        "    pred = np.dot(X,theta) #Make a prediction\n",
        "    error = pred - y #Calculate error\n",
        "    cost = 1/(2*m)*np.dot(np.transpose(error), error) #Calculate training cost\n",
        "    lstCost.append(cost)  #Put error in the cost array\n",
        "    \n",
        "    theta = theta - (learning_rate * (1/m) * np.dot(np.transpose(X), error)) #Update theta\n",
        "   \n",
        "  \n",
        "  return theta,lstCost\n",
        "\n",
        "# Task 3-2: Implement a function performing prediction\n",
        "# Inputs: Testing data and weights\n",
        "# Output: Predictions\n",
        "def myPredictFun(X,w):\n",
        "    return X.dot(w) + intercept\n",
        "\n",
        "# Here we insert a column of 1s into training_data and test_data (to be consistent with our lecture slides)\n",
        "train_data_intercept = np.insert(train_data, 0, 1, axis=1)\n",
        "test_data_intercept = np.insert(test_data, 0, 1, axis=1)\n",
        "\n",
        "\n",
        "# Here we call myGradientDescentFun to train the model and get weights\n",
        "# Note: you need to figure out good learning rate value and the number of iterations\n",
        "m,costs = myGradientDescentFun(train_data_intercept,train_target.flatten(),0.01,1000)\n",
        "\n",
        "# Task 3-3: show intercept and coefficents\n",
        "\n",
        "\n",
        "intercept = m[0]\n",
        "print(\"Intercept: \" , intercept)\n",
        "m = np.delete(m,0)\n",
        "print(\"Coefficients: \" , m)\n",
        "\n",
        "train_pred = myPredictFun(test_data,m)\n",
        "\n",
        "\n",
        "# Task 3-4: show errors on training dataset and testing dataset\n",
        "MSEtotal = 0\n",
        "lstCostTest = []\n",
        "for i in range(test_target.size):\n",
        "    cost = np.square(train_pred.item(i) - test_target.item(i))\n",
        "    MSEtotal +=  cost\n",
        "    lstCostTest.append(cost/2)\n",
        "    \n",
        "    \n",
        "MSE = MSEtotal/(test_target.size)          \n",
        "print(\"MSE: \", MSE/2)\n",
        "\n",
        "\n",
        "# Task 3-5: plot learning curves showing training errors and testing errors along iterations\n",
        "plt.plot(costs)\n",
        "plt.title('Training error')\n",
        "plt.ylabel('Error')\n",
        "plt.xlabel('Iteration')\n",
        "plt.show()\n",
        "\n",
        "plt.plot(lstCostTest)\n",
        "plt.title('Validation error')\n",
        "plt.ylabel('Error')\n",
        "plt.xlabel('Iteration')\n",
        "plt.show()"
      ],
      "execution_count": 0,
      "outputs": [
        {
          "output_type": "stream",
          "text": [
            "Intercept:  22.79555333435062\n",
            "Coefficients:  [-0.86782689  0.3950153  -0.04297357  0.76200827 -1.57797921  3.34069793\n",
            " -0.18501533 -2.58505842  1.19003465 -0.72903023 -1.94138034  1.14529851\n",
            " -3.53809518]\n",
            "MSE:  12.712268815516387\n"
          ],
          "name": "stdout"
        },
        {
          "output_type": "display_data",
          "data": {
            "image/png": "[encoded data removed]",
            "text/plain": [
              "<Figure size 432x288 with 1 Axes>"
            ]
          },
          "metadata": {
            "tags": []
          }
        },
        {
          "output_type": "display_data",
          "data": {
            "image/png": "[encoded data removed]",
            "text/plain": [
              "<Figure size 432x288 with 1 Axes>"
            ]
          },
          "metadata": {
            "tags": []
          }
        }
      ]
    },
    {
      "cell_type": "code",
      "metadata": {
        "id": "_gf2RM8_mJag",
        "colab_type": "code",
        "colab": {}
      },
      "source": [
        ""
      ],
      "execution_count": 0,
      "outputs": []
    },
    {
      "cell_type": "markdown",
      "metadata": {
        "id": "Rx1UOqmfcNe0",
        "colab_type": "text"
      },
      "source": [
        "<h4>Use numerical solution (stochastic gradient descent) to perform linear regression in the following cell</h4>"
      ]
    },
    {
      "cell_type": "code",
      "metadata": {
        "id": "96_WVyVKcNss",
        "colab_type": "code",
        "outputId": "855117f3-1866-4b26-bc10-aa995f9b9fee",
        "colab": {
          "base_uri": "https://localhost:8080/",
          "height": 658
        }
      },
      "source": [
        "# Feature scaling\n",
        "scaler = preprocessing.StandardScaler().fit(train_data)\n",
        "train_data = scaler.transform(train_data)\n",
        "test_data = scaler.transform(test_data)\n",
        "\n",
        "\n",
        "# Task 4-1: Implement a function performing gradient descent\n",
        "# Inputs: Training data, training label, learning rate, number of epoches, batch size\n",
        "# Output: the final Weights\n",
        "#         the loss history along batches\n",
        "def myGradientDescentFun(X,y,learning_rate,epoches, batchsize):\n",
        "    theta = np.random.rand(15,1) #Make theta a size (15,1) array of random vars from 0 to 1\n",
        "    m = y.size\n",
        "    lstCost = []\n",
        "    for i in range (epoches):\n",
        "      cost = 0.0\n",
        "      indexes = np.random.permutation(m) #Shuffle\n",
        "      \n",
        "      X = X[indexes]\n",
        "      y = y[indexes]\n",
        "      for j in range (0,m,batchsize):\n",
        "        xi = X[i:i+batchsize] #X batch\n",
        "        xi = np.c_[np.ones(len(xi)),xi] #Add ones ot X batch\n",
        "        \n",
        "        yi = y[i:i+batchsize] #Y batch\n",
        "       \n",
        "        prediction = np.dot(xi,theta) #Make prediction           \n",
        "        \n",
        "        error = prediction-yi \n",
        "       \n",
        "        theta += -(1/m)*learning_rate*(np.dot(np.transpose(xi),(error))) #Update theta\n",
        "        \n",
        "        cost = (1/2*m)*np.sum(np.square(prediction-yi)) #Calculate training cost\n",
        "        #cost = 1/(2*m)*np.dot(np.transpose(error), error) #Calculate training cost\n",
        "        lstCost.append(cost) #Add cost to array\n",
        "    \n",
        "    return theta, lstCost\n",
        "\n",
        "# Task 4-2: Implement a function performing prediction\n",
        "# Inputs: Testing data and weights\n",
        "# Output: Predictions\n",
        "def myPredictFun(X,w):\n",
        "    return X.dot(w) + intercept\n",
        "\n",
        "# Here we insert a column of 1s into training_data and test_data (to be consistent with our lecture slides)\n",
        "train_data_intercept = np.insert(train_data, 0, 1, axis=1)\n",
        "test_data_intercept = np.insert(test_data, 0, 1, axis=1)\n",
        "\n",
        "# Here we call myGradientDescentFun to train the model and get weights\n",
        "# Note: you need to figure out good learning rate value and the number of iterations\n",
        "m, costs = myGradientDescentFun(train_data_intercept,train_target,0.1,100,102)\n",
        "\n",
        "# Task 4-3: show intercept and coefficents\n",
        "intercept = m[0]\n",
        "print(\"Intercept: \", intercept)\n",
        "m = np.delete(m,0)\n",
        "print(\"Coefficients: \", m)\n",
        "train_pred = myPredictFun(test_data_intercept,m)\n",
        "\n",
        "# Task 4-4: show errors on training dataset and testing dataset\n",
        "MSEtotal = 0\n",
        "lstCostTest = []\n",
        "for i in range(test_target.size):\n",
        "    cost = np.square(train_pred.item(i) - test_target.item(i))\n",
        "    MSEtotal +=  cost\n",
        "    lstCostTest.append(cost/2)  \n",
        "\n",
        "print(\"MSE: \", MSE/2)\n",
        "\n",
        "\n",
        "\n",
        "# Task 4-5: plot learning curves showing training errors and testing errors along batch\n",
        "plt.plot(costs)\n",
        "plt.title('Training error')\n",
        "plt.ylabel('Error')\n",
        "plt.xlabel('Iteration')\n",
        "plt.show()\n",
        "\n",
        "\n",
        "plt.plot(lstCostTest)\n",
        "plt.title('Validation error')\n",
        "plt.ylabel('Error')\n",
        "plt.xlabel('Iteration')\n",
        "plt.show()"
      ],
      "execution_count": 0,
      "outputs": [
        {
          "output_type": "stream",
          "text": [
            "Intercept:  [11.36176637]\n",
            "Coefficients:  [11.25019668 -0.87002645  0.32409531 -0.09225815  0.72925528 -1.46019536\n",
            "  3.37130536 -0.19238331 -2.49850828  1.27352104 -0.88880783 -2.0556159\n",
            "  1.1670164  -3.76554903]\n",
            "MSE:  12.712268815516387\n"
          ],
          "name": "stdout"
        },
        {
          "output_type": "display_data",
          "data": {
            "image/png": "[encoded data removed]",
            "text/plain": [
              "<Figure size 432x288 with 1 Axes>"
            ]
          },
          "metadata": {
            "tags": []
          }
        },
        {
          "output_type": "display_data",
          "data": {
            "image/png": "[encoded data removed]",
            "text/plain": [
              "<Figure size 432x288 with 1 Axes>"
            ]
          },
          "metadata": {
            "tags": []
          }
        }
      ]
    }
  ]
}